{
 "cells": [
  {
   "cell_type": "markdown",
   "metadata": {},
   "source": [
    "## Listas"
   ]
  },
  {
   "cell_type": "code",
   "execution_count": 5,
   "metadata": {},
   "outputs": [
    {
     "name": "stdout",
     "output_type": "stream",
     "text": [
      "['mercurio', 'venus', 'tierra', 'marte', 'jupiter', 'saturno', 'urano', 'neptuno']\n",
      "pluton\n"
     ]
    }
   ],
   "source": [
    "planetas=['mercurio','venus','tierra','marte','jupiter','saturno','urano','neptuno']\n",
    "print(planetas)\n",
    "planetas.append('pluton')\n",
    "print(planetas[-1])"
   ]
  },
  {
   "cell_type": "code",
   "execution_count": 17,
   "metadata": {},
   "outputs": [
    {
     "name": "stdout",
     "output_type": "stream",
     "text": [
      "venus\n",
      "el planeta que elijió es el 2 planeta del sistema solar\n",
      "planetas alejados del sol: ['saturno', 'urano', 'neptuno', 'pluton']\n",
      "planetas cerquita del sol: ['venus', 'tierra', 'marte']\n"
     ]
    }
   ],
   "source": [
    "planetas=['mercurio','venus','tierra','marte','jupiter','saturno','urano','neptuno','pluton']\n",
    "buscarplaneta= input('cual planeta buscas, por favor usa puras minusculas')\n",
    "print(buscarplaneta)\n",
    "buscarplaneta_index= planetas.index(buscarplaneta)\n",
    "print('el planeta que elijió es el', buscarplaneta_index +1, 'planeta del sistema solar')\n",
    "planetasCercajSol=planetas[1:4]\n",
    "planetasAlejSol=planetas[5:]\n",
    "print('planetas alejados del sol:',planetasAlejSol)\n",
    "print('planetas cerquita del sol:',planetasCercajSol)\n"
   ]
  }
 ],
 "metadata": {
  "interpreter": {
   "hash": "92617bf7090150811d03b2ae722c8d30a99ab7645b56142bfb10f825801b180d"
  },
  "kernelspec": {
   "display_name": "Python 3.10.2 64-bit",
   "language": "python",
   "name": "python3"
  },
  "language_info": {
   "codemirror_mode": {
    "name": "ipython",
    "version": 3
   },
   "file_extension": ".py",
   "mimetype": "text/x-python",
   "name": "python",
   "nbconvert_exporter": "python",
   "pygments_lexer": "ipython3",
   "version": "3.10.2"
  },
  "orig_nbformat": 4
 },
 "nbformat": 4,
 "nbformat_minor": 2
}
