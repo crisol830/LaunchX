{
 "cells": [
  {
   "cell_type": "markdown",
   "metadata": {},
   "source": [
    "## diccionarios"
   ]
  },
  {
   "cell_type": "code",
   "execution_count": 11,
   "metadata": {},
   "outputs": [
    {
     "name": "stdout",
     "output_type": "stream",
     "text": [
      "marte\n",
      "rojo\n",
      "6752\n",
      "6792\n"
     ]
    }
   ],
   "source": [
    "planeta = {\n",
    "    'id': 4,\n",
    "    'lunas':2,\n",
    "    'nombre':'marte'\n",
    "}\n",
    "print(planeta['nombre'])\n",
    "planeta['color']='rojo'\n",
    "print(planeta['color'])\n",
    "planeta['Polar']= 6752\n",
    "planeta['ecuatorial']=6792\n",
    "#for datos in planeta.keys():\n",
    "   # print(f'{datos}: {planeta}')\n",
    "print(planeta['Polar'])\n",
    "print(planeta['ecuatorial'])\n"
   ]
  },
  {
   "cell_type": "code",
   "execution_count": 24,
   "metadata": {},
   "outputs": [
    {
     "name": "stdout",
     "output_type": "stream",
     "text": [
      "12\n",
      "dict_values([0, 0, 1, 2, 79, 82, 27, 14, 5, 2, 1, 1])\n",
      "0\n",
      "0\n",
      "1\n",
      "3\n",
      "82\n",
      "164\n",
      "191\n",
      "205\n",
      "210\n",
      "212\n",
      "213\n",
      "214\n",
      "17.833333333333332\n"
     ]
    }
   ],
   "source": [
    "lunasEnPlanetas={\n",
    "    'mercurio':0,\n",
    "    'venus':0,\n",
    "    'tierra':1,\n",
    "    'marte':2,\n",
    "    'jupiter':79,\n",
    "    'saturno':82,\n",
    "    'urano':27,\n",
    "    'neptuno':14,\n",
    "    'pluton':5,\n",
    "    'haumea':2,\n",
    "    'makemake':1,\n",
    "    'eris':1\n",
    "}\n",
    "#for lunas in lunasEnPlanetas.keys():\n",
    " #   print(f'{lunas}: {lunasEnPlanetas[lunas]}')\n",
    "lunas=lunasEnPlanetas.values()\n",
    "planetas =len(lunasEnPlanetas.keys())\n",
    "print(planetas)\n",
    "print(lunas)\n",
    "Totaldelunas=0\n",
    "for luna in lunas:\n",
    "    Totaldelunas=Totaldelunas+luna\n",
    "    print(Totaldelunas)\n",
    "promedio=Totaldelunas/planetas\n",
    "print(promedio)\n"
   ]
  },
  {
   "cell_type": "code",
   "execution_count": null,
   "metadata": {},
   "outputs": [],
   "source": []
  }
 ],
 "metadata": {
  "interpreter": {
   "hash": "92617bf7090150811d03b2ae722c8d30a99ab7645b56142bfb10f825801b180d"
  },
  "kernelspec": {
   "display_name": "Python 3.10.2 64-bit",
   "language": "python",
   "name": "python3"
  },
  "language_info": {
   "codemirror_mode": {
    "name": "ipython",
    "version": 3
   },
   "file_extension": ".py",
   "mimetype": "text/x-python",
   "name": "python",
   "nbconvert_exporter": "python",
   "pygments_lexer": "ipython3",
   "version": "3.10.2"
  },
  "orig_nbformat": 4
 },
 "nbformat": 4,
 "nbformat_minor": 2
}
