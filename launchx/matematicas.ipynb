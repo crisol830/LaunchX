{
 "cells": [
  {
   "cell_type": "markdown",
   "metadata": {},
   "source": [
    "## Operadores aritmeticos"
   ]
  },
  {
   "cell_type": "code",
   "execution_count": 11,
   "metadata": {},
   "outputs": [
    {
     "name": "stdout",
     "output_type": "stream",
     "text": [
      "628949330 km\n",
      "390577533.93 mi\n"
     ]
    }
   ],
   "source": [
    "distTierra=149597870\n",
    "distJupiter=778547200\n",
    "distanciaEntre=abs(distTierra-distJupiter)\n",
    "print(distanciaEntre,'km')\n",
    "distanciaMillas=distanciaEntre*0.621\n",
    "print(distanciaMillas,'mi')\n",
    "\n"
   ]
  },
  {
   "cell_type": "code",
   "execution_count": 30,
   "metadata": {},
   "outputs": [
    {
     "name": "stdout",
     "output_type": "stream",
     "text": [
      "1478963\n",
      "1236987\n",
      "-241976\n",
      "150267.096\n"
     ]
    }
   ],
   "source": [
    "planeta1 = input('numero1')\n",
    "planeta2 = input('numero2')\n",
    "planeta1 =int(planeta1)\n",
    "planeta2 =int(planeta2)\n",
    "print(planeta1)\n",
    "print(planeta2)\n",
    "distanciaentrePlaneta=planeta2- planeta1\n",
    "print(distanciaentrePlaneta)\n",
    "distanciaMi=distanciaentrePlaneta*0.621\n",
    "print(abs(distanciaMi))\n"
   ]
  }
 ],
 "metadata": {
  "interpreter": {
   "hash": "92617bf7090150811d03b2ae722c8d30a99ab7645b56142bfb10f825801b180d"
  },
  "kernelspec": {
   "display_name": "Python 3.10.2 64-bit",
   "language": "python",
   "name": "python3"
  },
  "language_info": {
   "codemirror_mode": {
    "name": "ipython",
    "version": 3
   },
   "file_extension": ".py",
   "mimetype": "text/x-python",
   "name": "python",
   "nbconvert_exporter": "python",
   "pygments_lexer": "ipython3",
   "version": "3.10.2"
  },
  "orig_nbformat": 4
 },
 "nbformat": 4,
 "nbformat_minor": 2
}
