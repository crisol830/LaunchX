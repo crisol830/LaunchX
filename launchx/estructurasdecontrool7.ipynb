{
 "cells": [
  {
   "cell_type": "markdown",
   "metadata": {},
   "source": [
    "## for y while\n"
   ]
  },
  {
   "cell_type": "code",
   "execution_count": 13,
   "metadata": {},
   "outputs": [
    {
     "name": "stdout",
     "output_type": "stream",
     "text": [
      "mercurio \n",
      "venus\n",
      "tierra \n",
      "marte\n",
      "hecho \n"
     ]
    }
   ],
   "source": [
    "planetas=[]\n",
    "planetasnuevos=''\n",
    "planetasnuevos= input('porfavor ingresa un nombre de planeta, o ingresa hecho')\n",
    "while  planetasnuevos.lower() != 'hecho':\n",
    "    if planetasnuevos:\n",
    "        planetas.append(planetasnuevos)\n",
    "        planetasnuevos= input('porfavor ingresa un nombre de planeta, o ingresa hecho')\n",
    "        \n",
    "\n",
    "for planeta1 in planetas:\n",
    "    print (planeta1)\n",
    "\n",
    "    \n",
    "\n",
    "\n"
   ]
  }
 ],
 "metadata": {
  "interpreter": {
   "hash": "92617bf7090150811d03b2ae722c8d30a99ab7645b56142bfb10f825801b180d"
  },
  "kernelspec": {
   "display_name": "Python 3.10.2 64-bit",
   "language": "python",
   "name": "python3"
  },
  "language_info": {
   "codemirror_mode": {
    "name": "ipython",
    "version": 3
   },
   "file_extension": ".py",
   "mimetype": "text/x-python",
   "name": "python",
   "nbconvert_exporter": "python",
   "pygments_lexer": "ipython3",
   "version": "3.10.2"
  },
  "orig_nbformat": 4
 },
 "nbformat": 4,
 "nbformat_minor": 2
}
