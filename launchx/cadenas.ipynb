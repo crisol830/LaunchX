{
 "cells": [
  {
   "cell_type": "markdown",
   "metadata": {},
   "source": [
    "## Cadenas"
   ]
  },
  {
   "cell_type": "code",
   "execution_count": 51,
   "metadata": {},
   "outputs": [
    {
     "name": "stdout",
     "output_type": "stream",
     "text": [
      "Interesting facts about the Moon. The Moon is Earth's only satellite. There are several interesting facts about the Moon and how it affects life here on Earth. \n",
      "\",\n",
      "        \"On average, the Moon moves 4cm away from the Earth every year. This yearly drift is not significant enough to cause immediate effects on Earth. The highest daylight temperature of the Moon is 127 C.\n",
      "['Interesting facts about the Moon', \" The Moon is Earth's only satellite\", ' There are several interesting facts about the Moon and how it affects life here on Earth', ' \\n\",\\n        \"On average, the Moon moves 4cm away from the Earth every year', ' This yearly drift is not significant enough to cause immediate effects on Earth', ' The highest daylight temperature of the Moon is 127 C', '']\n"
     ]
    }
   ],
   "source": [
    "cadena1=\"\"\"Interesting facts about the Moon. The Moon is Earth's only satellite. There are several interesting facts about the Moon and how it affects life here on Earth. \\n\",\n",
    "        \"On average, the Moon moves 4cm away from the Earth every year. This yearly drift is not significant enough to cause immediate effects on Earth. The highest daylight temperature of the Moon is 127 C.\"\"\"\n",
    "print(cadena1)\n",
    "partido=cadena1.split('.')\n",
    "print(partido)\n"
   ]
  },
  {
   "cell_type": "code",
   "execution_count": 52,
   "metadata": {},
   "outputs": [
    {
     "name": "stdout",
     "output_type": "stream",
     "text": [
      "176\n",
      "338\n",
      "-1\n"
     ]
    }
   ],
   "source": [
    "\n",
    "pClaves=[\"average\",\"temperature\",\"distance\"]\n",
    "pClave1=cadena1.find('average')\n",
    "pclave2=cadena1.find('temperature')\n",
    "pClave3=cadena1.find('distance')\n",
    "print(pClave1)\n",
    "print(pclave2)\n",
    "print(pClave3)\n",
    "\n",
    "\n"
   ]
  },
  {
   "cell_type": "code",
   "execution_count": 53,
   "metadata": {},
   "outputs": [
    {
     "name": "stdout",
     "output_type": "stream",
     "text": [
      " \n",
      "\",\n",
      "        \"On average, the Moon moves 4cm away from the Earth every year\n",
      " The highest daylight temperature of the Moon is 127 C\n"
     ]
    }
   ],
   "source": [
    "\n",
    "for oracion in partido :\n",
    "    for pClave in pClaves:\n",
    "        if pClave in oracion:\n",
    "            print(oracion)\n",
    "            break\n",
    "   "
   ]
  },
  {
   "cell_type": "code",
   "execution_count": 58,
   "metadata": {},
   "outputs": [
    {
     "name": "stdout",
     "output_type": "stream",
     "text": [
      " \n",
      "\",\n",
      "        \"On average, the Moon moves 4cm away from the Earth every year\n",
      " The highest daylight temperature of the Moon is 127 Celsius\n"
     ]
    }
   ],
   "source": [
    "for oracion in partido:\n",
    "    for pClave in pClaves:\n",
    "        if pClave in oracion:\n",
    "            print(oracion.replace('C','Celsius'))"
   ]
  },
  {
   "cell_type": "markdown",
   "metadata": {},
   "source": [
    "## Formateando Cadenas"
   ]
  },
  {
   "cell_type": "code",
   "execution_count": 67,
   "metadata": {},
   "outputs": [
    {
     "name": "stdout",
     "output_type": "stream",
     "text": [
      "--------------------\n",
      "nombre del planeta:earth\n",
      "gravedad de moon: 1.6199999999999999m/s2\n",
      "\n"
     ]
    }
   ],
   "source": [
    "PlanetName=\"Mars\"\n",
    "GravityonGanymede=1.4300000000000002\n",
    "PName=\"moon\"\n",
    "gravity=0.00162\n",
    "planet=\"earth\"\n",
    "titulo=\"Grabedad de {PName}\"\n",
    "gravityinM= gravity*1000\n",
    "datos=f\"\"\"{'-'*20}\n",
    "nombre del planeta:{planet}\n",
    "gravedad de {PName}: {gravityinM}m/s2\n",
    "\"\"\"\n",
    "print(datos)\n"
   ]
  },
  {
   "cell_type": "code",
   "execution_count": 68,
   "metadata": {},
   "outputs": [
    {
     "name": "stdout",
     "output_type": "stream",
     "text": [
      "--------------------\n",
      "nombre del planeta:jupiter\n",
      "gravedad de moon: 8.39m/s2\n",
      "\n"
     ]
    }
   ],
   "source": [
    "PlanetName=\"Mars\"\n",
    "GravityonGanymede=1.4300000000000002\n",
    "PName=\"moon\"\n",
    "gravity=0.00839\n",
    "planet=\"jupiter\"\n",
    "titulo=\"Grabedad de {PName}\"\n",
    "gravityinM= gravity*1000\n",
    "datos=f\"\"\"{'-'*20}\n",
    "nombre del planeta:{planet}\n",
    "gravedad de {PName}: {gravityinM}m/s2\n",
    "\"\"\"\n",
    "print(datos)"
   ]
  }
 ],
 "metadata": {
  "interpreter": {
   "hash": "92617bf7090150811d03b2ae722c8d30a99ab7645b56142bfb10f825801b180d"
  },
  "kernelspec": {
   "display_name": "Python 3.10.2 64-bit",
   "language": "python",
   "name": "python3"
  },
  "language_info": {
   "codemirror_mode": {
    "name": "ipython",
    "version": 3
   },
   "file_extension": ".py",
   "mimetype": "text/x-python",
   "name": "python",
   "nbconvert_exporter": "python",
   "pygments_lexer": "ipython3",
   "version": "3.10.2"
  },
  "orig_nbformat": 4
 },
 "nbformat": 4,
 "nbformat_minor": 2
}
