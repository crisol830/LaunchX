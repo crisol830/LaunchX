{
 "cells": [
  {
   "cell_type": "markdown",
   "metadata": {},
   "source": [
    "## funciones"
   ]
  },
  {
   "cell_type": "code",
   "execution_count": 12,
   "metadata": {},
   "outputs": [],
   "source": [
    "def carritode3(lectura1, lectura2, lectura3):\n",
    "    lecturaGeneral =(lectura1+lectura2+lectura3)\n",
    "    return f\"\"\"CuantoGas:\n",
    "    lecturaGeneral={lecturaGeneral}%\n",
    "    tanqueUno:{lectura1}%\n",
    "    tanqueDos:{lectura2}%\n",
    "    tanqueTres:{lectura3}%\n",
    "    \"\"\"\n",
    "    print(carritode3(75,90,30))\n",
    "    \n",
    "\n"
   ]
  },
  {
   "cell_type": "code",
   "execution_count": 7,
   "metadata": {},
   "outputs": [],
   "source": [
    "def promedio(lecturas):\n",
    "    total=sum(lecturas)\n",
    "    Cuantos=len(lecturas)\n",
    "    return total/Cuantos\n",
    "\n",
    "    promedio([95,45,65])"
   ]
  },
  {
   "cell_type": "code",
   "execution_count": 10,
   "metadata": {},
   "outputs": [
    {
     "name": "stdout",
     "output_type": "stream",
     "text": [
      "cuantoGas:\n",
      "    lecturaGeneral=234%\n",
      "    tanqueUno88%\n",
      "    tanquedos76%\n",
      "    tanquetres70%\n",
      "\n",
      "    \n",
      "    \n"
     ]
    }
   ],
   "source": [
    "def carritode3(lectura1,lectura2,lectura3):\n",
    "    LecturaGeneral=(lectura1+lectura2+lectura3)\n",
    "    return f\"\"\"cuantoGas:\n",
    "    lecturaGeneral={LecturaGeneral}%\n",
    "    tanqueUno{lectura1}%\n",
    "    tanquedos{lectura2}%\n",
    "    tanquetres{lectura3}%\n",
    "\n",
    "    \n",
    "    \"\"\"\n",
    "print(carritode3(88,76,70))"
   ]
  },
  {
   "cell_type": "code",
   "execution_count": null,
   "metadata": {},
   "outputs": [],
   "source": [
    "def informeMision(minutos,gasolina,distancia, destino):\n",
    "    return f\"\"\"\n",
    "    vamos a:{'venus'}\n",
    "    distancia={'18394'}millas\n",
    "    \n",
    "    \"\"\"\n"
   ]
  }
 ],
 "metadata": {
  "interpreter": {
   "hash": "92617bf7090150811d03b2ae722c8d30a99ab7645b56142bfb10f825801b180d"
  },
  "kernelspec": {
   "display_name": "Python 3.10.2 64-bit",
   "language": "python",
   "name": "python3"
  },
  "language_info": {
   "codemirror_mode": {
    "name": "ipython",
    "version": 3
   },
   "file_extension": ".py",
   "mimetype": "text/x-python",
   "name": "python",
   "nbconvert_exporter": "python",
   "pygments_lexer": "ipython3",
   "version": "3.10.2"
  },
  "orig_nbformat": 4
 },
 "nbformat": 4,
 "nbformat_minor": 2
}
