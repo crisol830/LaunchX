{
 "cells": [
  {
   "cell_type": "markdown",
   "metadata": {},
   "source": [
    "## Advertencia de asteroide"
   ]
  },
  {
   "cell_type": "code",
   "execution_count": 7,
   "metadata": {},
   "outputs": [
    {
     "name": "stdout",
     "output_type": "stream",
     "text": [
      "Ahi viene el asteriode\n"
     ]
    }
   ],
   "source": [
    "velAste =49\n",
    "VelSup= 25\n",
    "velMin=0\n",
    "\n",
    "if velAste>=VelSup:\n",
    "    print('Ahi viene el asteriode')\n",
    "elif velAste<VelSup: \n",
    "     print ('Todo bien, no hay asteriode')"
   ]
  },
  {
   "cell_type": "code",
   "execution_count": 8,
   "metadata": {},
   "outputs": [
    {
     "name": "stdout",
     "output_type": "stream",
     "text": [
      "No hay nada que ver aqui\n"
     ]
    }
   ],
   "source": [
    "admos=20\n",
    "asteroide=19\n",
    "if asteroide>=admos:\n",
    "    print('Sal a ver el asteroide en corto')\n",
    "else:\n",
    "    print('No hay nada que ver aqui')\n"
   ]
  },
  {
   "cell_type": "code",
   "execution_count": 14,
   "metadata": {},
   "outputs": [
    {
     "name": "stdout",
     "output_type": "stream",
     "text": [
      "aguas que ahi viene el asteroide\n"
     ]
    }
   ],
   "source": [
    "diamMinAste=893\n",
    "velAsteriode=25\n",
    "\n",
    "if diamMinAste==25:\n",
    "    print('se deshizo')\n",
    "elif diamMinAste>25 or diamMinAste<1000:\n",
    "    print('aguas que ahi viene el asteroide')\n",
    "elif velAsteriode>=20:\n",
    "    print('sal a ver el asteroide')\n",
    "elif velAsteriode<25:\n",
    "    print('no hay nada que ver aqui')"
   ]
  }
 ],
 "metadata": {
  "interpreter": {
   "hash": "92617bf7090150811d03b2ae722c8d30a99ab7645b56142bfb10f825801b180d"
  },
  "kernelspec": {
   "display_name": "Python 3.10.2 64-bit",
   "language": "python",
   "name": "python3"
  },
  "language_info": {
   "codemirror_mode": {
    "name": "ipython",
    "version": 3
   },
   "file_extension": ".py",
   "mimetype": "text/x-python",
   "name": "python",
   "nbconvert_exporter": "python",
   "pygments_lexer": "ipython3",
   "version": "3.10.2"
  },
  "orig_nbformat": 4
 },
 "nbformat": 4,
 "nbformat_minor": 2
}
